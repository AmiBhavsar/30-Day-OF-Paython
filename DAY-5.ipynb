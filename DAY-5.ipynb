{
 "cells": [
  {
   "cell_type": "code",
   "execution_count": 1,
   "id": "1a738d0c",
   "metadata": {},
   "outputs": [],
   "source": [
    "#Write a Python program to check if all dictionaries in a list are empty or not."
   ]
  },
  {
   "cell_type": "code",
   "execution_count": 2,
   "id": "c9acdbf4",
   "metadata": {},
   "outputs": [
    {
     "name": "stdout",
     "output_type": "stream",
     "text": [
      "True\n",
      "False\n"
     ]
    }
   ],
   "source": [
    "#solution\n",
    "my_list1 = [{},{},{}]\n",
    "my_list2 = [{123,2345},{},{}]\n",
    "print(all(not d for d in my_list1))\n",
    "print(all(not d for d in my_list2))"
   ]
  },
  {
   "cell_type": "code",
   "execution_count": 3,
   "id": "8dac4f64",
   "metadata": {},
   "outputs": [],
   "source": [
    "#Write a Python program to remove duplicates from a list of lists."
   ]
  },
  {
   "cell_type": "code",
   "execution_count": 4,
   "id": "1caf7cc8",
   "metadata": {},
   "outputs": [
    {
     "name": "stdout",
     "output_type": "stream",
     "text": [
      "Original List [[110, 120], [240], [330, 456, 425], [310, 220], [133], [240]]\n",
      "New List [[110, 120], [133], [240], [310, 220], [330, 456, 425]]\n"
     ]
    }
   ],
   "source": [
    "#Solution\n",
    "import itertools\n",
    "num = [[110, 120], [240], [330, 456, 425], [310, 220], [133], [240]]\n",
    "print(\"Original List\", num)\n",
    "num.sort()\n",
    "new_num = list(num for num,_ in itertools.groupby(num))\n",
    "print(\"New List\", new_num)"
   ]
  },
  {
   "cell_type": "code",
   "execution_count": 30,
   "id": "4df93e2c",
   "metadata": {},
   "outputs": [
    {
     "name": "stdout",
     "output_type": "stream",
     "text": [
      "[('a', 'm', 'i'), ('b', 'a', 'v'), ('s', 'a', 'r'), ('b', None, None)]\n"
     ]
    }
   ],
   "source": [
    "def grouper(inputs, n, fillvalue= None):\n",
    "    iters = [iter(inputs)]*n\n",
    "    return itertools.zip_longest(*iters, fillvalue = fillvalue)\n",
    "\n",
    "alpha = [ 'a', 'm', 'i', 'b', 'a', 'v', 's', 'a', 'r', 'b']\n",
    "print(list(grouper(alpha, 3)))"
   ]
  },
  {
   "cell_type": "code",
   "execution_count": 35,
   "id": "55145ab7",
   "metadata": {},
   "outputs": [
    {
     "name": "stdout",
     "output_type": "stream",
     "text": [
      "[(1, 8), (1, 9), (8, 9)]\n"
     ]
    }
   ],
   "source": [
    "print(list(itertools.combinations([1,8,9],2)))"
   ]
  },
  {
   "cell_type": "code",
   "execution_count": 36,
   "id": "e92b096b",
   "metadata": {},
   "outputs": [
    {
     "name": "stdout",
     "output_type": "stream",
     "text": [
      "[(1, 8), (1, 9), (1, 4), (8, 9), (8, 4), (9, 4)]\n"
     ]
    }
   ],
   "source": [
    "print(list(itertools.combinations([1,8,9,4],2)))"
   ]
  },
  {
   "cell_type": "code",
   "execution_count": 37,
   "id": "d074d99c",
   "metadata": {},
   "outputs": [
    {
     "name": "stdout",
     "output_type": "stream",
     "text": [
      "[(1, 8, 9), (1, 8, 4), (1, 9, 4), (8, 9, 4)]\n"
     ]
    }
   ],
   "source": [
    "print(list(itertools.combinations([1,8,9,4],3)))"
   ]
  },
  {
   "cell_type": "code",
   "execution_count": 5,
   "id": "b1489ca3",
   "metadata": {},
   "outputs": [],
   "source": [
    "#Write a Python program to extend a list without append."
   ]
  },
  {
   "cell_type": "code",
   "execution_count": 9,
   "id": "dedf98b2",
   "metadata": {},
   "outputs": [
    {
     "name": "stdout",
     "output_type": "stream",
     "text": [
      "[403, 503, 603, 103, 320, 430]\n"
     ]
    }
   ],
   "source": [
    "#solution\n",
    "x = [103, 320, 430]\n",
    "y = [403, 503, 603]\n",
    "x[:0] =y\n",
    "print(x)"
   ]
  },
  {
   "cell_type": "code",
   "execution_count": 11,
   "id": "2d1bb2b6",
   "metadata": {},
   "outputs": [],
   "source": [
    "#Write a Python program to find the list in a list of lists whose sum of elements is the highest"
   ]
  },
  {
   "cell_type": "code",
   "execution_count": 12,
   "id": "e73e7076",
   "metadata": {},
   "outputs": [
    {
     "name": "stdout",
     "output_type": "stream",
     "text": [
      "[10, 11, 12]\n"
     ]
    }
   ],
   "source": [
    "#solution\n",
    "num = [[1,2,3], [4,5,6], [10,11,12], [7,8,9]]\n",
    "print(max(num, key=sum))"
   ]
  },
  {
   "cell_type": "code",
   "execution_count": 13,
   "id": "85f90702",
   "metadata": {},
   "outputs": [],
   "source": [
    "#Write a Python program to access dictionary key’s element by index."
   ]
  },
  {
   "cell_type": "code",
   "execution_count": 14,
   "id": "7556f2c0",
   "metadata": {},
   "outputs": [
    {
     "name": "stdout",
     "output_type": "stream",
     "text": [
      "stats\n"
     ]
    }
   ],
   "source": [
    "num = {'stats': 80, 'math': 90, 'algorithm': 86}\n",
    "print(list(num)[0])"
   ]
  },
  {
   "cell_type": "code",
   "execution_count": 18,
   "id": "6839d107",
   "metadata": {},
   "outputs": [
    {
     "name": "stdout",
     "output_type": "stream",
     "text": [
      "1 red\n",
      "2 while\n",
      "3 black\n"
     ]
    }
   ],
   "source": [
    "#Write a Python program to iterate over two lists simultaneously.\n",
    "num = [1, 2, 3]\n",
    "color = ['red', 'while', 'black']\n",
    "for (a,b) in zip(num, color):\n",
    "    print(a, b)"
   ]
  },
  {
   "cell_type": "code",
   "execution_count": 19,
   "id": "4d3ec08b",
   "metadata": {},
   "outputs": [],
   "source": [
    "#write a program to inser a string at the begining of every elements in a list"
   ]
  },
  {
   "cell_type": "code",
   "execution_count": 20,
   "id": "9bde2d56",
   "metadata": {},
   "outputs": [
    {
     "name": "stdout",
     "output_type": "stream",
     "text": [
      "['customer100', 'customer123', 'customer345', 'customer567', 'customer789', 'customer890', 'customer98', 'customer876', 'customer543', 'customer678']\n"
     ]
    }
   ],
   "source": [
    "#solution\n",
    "a = [100,123,345,567,789,890,98,876,543,678]\n",
    "#enter customer before each element\n",
    "print(['customer{0}'.format(i) for i in a])"
   ]
  },
  {
   "cell_type": "code",
   "execution_count": 21,
   "id": "c3efd9a3",
   "metadata": {},
   "outputs": [],
   "source": [
    "# write a program to take two lists and print if they have at least one common member"
   ]
  },
  {
   "cell_type": "code",
   "execution_count": 24,
   "id": "42d54be8",
   "metadata": {},
   "outputs": [
    {
     "name": "stdout",
     "output_type": "stream",
     "text": [
      "True\n",
      "None\n"
     ]
    }
   ],
   "source": [
    "#solution\n",
    "def common_data(list1, list2):\n",
    "    result = False\n",
    "    for x in list1:\n",
    "        for y in list2:\n",
    "            if x == y:\n",
    "                result = True\n",
    "                return result\n",
    "    \n",
    "print(common_data([121,222,332,432,125], [125,236,457,678,779]))\n",
    "print(common_data([1,2,3,4,5], [6,7,8,9]))"
   ]
  },
  {
   "cell_type": "code",
   "execution_count": 25,
   "id": "9aa21afe",
   "metadata": {},
   "outputs": [],
   "source": [
    "# compute all permutations in a list"
   ]
  },
  {
   "cell_type": "code",
   "execution_count": 26,
   "id": "998b5913",
   "metadata": {},
   "outputs": [
    {
     "name": "stdout",
     "output_type": "stream",
     "text": [
      "[(12, 22, 23), (12, 23, 22), (22, 12, 23), (22, 23, 12), (23, 12, 22), (23, 22, 12)]\n"
     ]
    }
   ],
   "source": [
    "#solution\n",
    "import itertools\n",
    "print(list(itertools.permutations([12,22,23])))"
   ]
  },
  {
   "cell_type": "code",
   "execution_count": null,
   "id": "0debffc2",
   "metadata": {},
   "outputs": [],
   "source": []
  }
 ],
 "metadata": {
  "kernelspec": {
   "display_name": "Python 3 (ipykernel)",
   "language": "python",
   "name": "python3"
  },
  "language_info": {
   "codemirror_mode": {
    "name": "ipython",
    "version": 3
   },
   "file_extension": ".py",
   "mimetype": "text/x-python",
   "name": "python",
   "nbconvert_exporter": "python",
   "pygments_lexer": "ipython3",
   "version": "3.9.12"
  }
 },
 "nbformat": 4,
 "nbformat_minor": 5
}
